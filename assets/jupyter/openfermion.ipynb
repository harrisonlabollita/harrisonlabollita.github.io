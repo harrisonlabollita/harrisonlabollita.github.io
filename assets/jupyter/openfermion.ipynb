{
 "cells": [
  {
   "cell_type": "code",
   "execution_count": 1,
   "id": "8de095f4",
   "metadata": {},
   "outputs": [],
   "source": [
    "try:\n",
    "    import fqe\n",
    "except:\n",
    "    !pip install git+https://github.com/quantumlib/OpenFermion-FQE --quiet "
   ]
  },
  {
   "cell_type": "code",
   "execution_count": 2,
   "id": "1bc914c0",
   "metadata": {},
   "outputs": [],
   "source": [
    "import numpy as np\n",
    "from scipy import sparse\n",
    "from scipy.linalg import expm\n",
    "\n",
    "import openfermion as of\n",
    "import fqe\n",
    "\n",
    "import matplotlib.pyplot as plt\n",
    "try:\n",
    "    plt.style.use('publish')\n",
    "except:\n",
    "    pass"
   ]
  },
  {
   "cell_type": "code",
   "execution_count": 36,
   "id": "3c85a4bc",
   "metadata": {},
   "outputs": [],
   "source": [
    "import copy"
   ]
  },
  {
   "cell_type": "code",
   "execution_count": 42,
   "id": "0192b398",
   "metadata": {},
   "outputs": [],
   "source": [
    "from fqe.algorithm.low_rank import evolve_fqe_givens, evolve_fqe_charge_charge_alpha_beta\n",
    "from fqe.algorithm.low_rank import evolve_fqe_givens_sector"
   ]
  },
  {
   "cell_type": "code",
   "execution_count": 3,
   "id": "95349fa3",
   "metadata": {},
   "outputs": [],
   "source": [
    "class model(dict):\n",
    "    \n",
    "    def __getattr__(self, name):\n",
    "        try:\n",
    "            return self[name]\n",
    "        except KeyError as e:\n",
    "            raise AttributeError(name) from e\n",
    "    \n",
    "    __setattr__ = dict.__setitem__\n",
    "    __delattr__ = dict.__delitem__"
   ]
  },
  {
   "cell_type": "code",
   "execution_count": 4,
   "id": "6cbb6250",
   "metadata": {},
   "outputs": [],
   "source": [
    "params = model(nsites=4, U = 2.0, t = 1.0)\n",
    "\n",
    "hubbard = of.fermi_hubbard(1, params.nsites,\n",
    "                           tunneling=params.t,\n",
    "                           coulomb=params.U,\n",
    "                           periodic=False)"
   ]
  },
  {
   "cell_type": "code",
   "execution_count": 5,
   "id": "f5134182",
   "metadata": {},
   "outputs": [],
   "source": [
    "nelectrons, Sz = 2, 0;\n",
    "\n",
    "init_wavefunction = fqe.Wavefunction([[nelectrons,\n",
    "                                       Sz, \n",
    "                                       params.nsites]])\n",
    "init_wavefunction.set_wfn(strategy='random')"
   ]
  },
  {
   "cell_type": "code",
   "execution_count": 13,
   "id": "61579dbd",
   "metadata": {},
   "outputs": [
    {
     "name": "stdout",
     "output_type": "stream",
     "text": [
      "CPU times: user 21.4 ms, sys: 2.8 ms, total: 24.2 ms\n",
      "Wall time: 23.7 ms\n"
     ]
    }
   ],
   "source": [
    "%%time\n",
    "evolve_time = 1.0;\n",
    "true_evolved_fqe = init_wavefunction.time_evolve(evolve_time, hubbard);"
   ]
  },
  {
   "cell_type": "code",
   "execution_count": 14,
   "id": "664421df",
   "metadata": {},
   "outputs": [
    {
     "name": "stdout",
     "output_type": "stream",
     "text": [
      "CPU times: user 132 ms, sys: 10.5 ms, total: 142 ms\n",
      "Wall time: 109 ms\n"
     ]
    }
   ],
   "source": [
    "%%time\n",
    "\n",
    "init_cirq_wfn=fqe.to_cirq(init_wavefunction)\n",
    "# U = expm(-i*t*H)\n",
    "H_matrix = of.get_sparse_operator(hubbard).todense()\n",
    "unitary = expm(-1j*evolve_time*H_matrix)\n",
    "\n",
    "true_evolved_cirq = unitary@init_cirq_wfn"
   ]
  },
  {
   "cell_type": "code",
   "execution_count": 16,
   "id": "e396e4aa",
   "metadata": {},
   "outputs": [
    {
     "name": "stdout",
     "output_type": "stream",
     "text": [
      "F-1  =  4.440892098500626e-16\n"
     ]
    }
   ],
   "source": [
    "fidelty=abs(fqe.vdot(true_evolved_fqe,\n",
    "            fqe.from_cirq(true_evolved_cirq,\n",
    "                         thresh=1e-12)))**2\n",
    "print('F-1  = ', abs(fidelty-1.0))"
   ]
  },
  {
   "cell_type": "code",
   "execution_count": 23,
   "id": "8d93e412",
   "metadata": {},
   "outputs": [],
   "source": [
    "nqubits = 2*params.nsites\n",
    "\n",
    "one_body = [ op + of.hermitian_conjugated(op)\n",
    "            for op in (of.FermionOperator(((i,1), (i+2,0)), \n",
    "                      coefficient= -1*params.t) for i in range(nqubits-2))]\n",
    "two_body = [of.FermionOperator(((i,1),(i,0), (i+1,1),(i+1,0)), coefficient=params.U)\n",
    "            for i in range(0, nqubits, 2)]"
   ]
  },
  {
   "cell_type": "code",
   "execution_count": 25,
   "id": "633a14cf",
   "metadata": {},
   "outputs": [],
   "source": [
    "hopping_matrix = of.get_sparse_operator(sum(one_body))\n",
    "unitary = expm(-1j*evolve_time*hopping_matrix.todense())\n",
    "evolved_cirq_wfn = unitary @ init_cirq_wfn"
   ]
  },
  {
   "cell_type": "code",
   "execution_count": 27,
   "id": "254e0b00",
   "metadata": {},
   "outputs": [],
   "source": [
    "hopping_matrix = -params.t*(np.diag([1]*(params.nsites-1), k=1)\n",
    "                            +np.diag([1]*(params.nsites-1), k=-1))"
   ]
  },
  {
   "cell_type": "code",
   "execution_count": 28,
   "id": "7bd7364a",
   "metadata": {},
   "outputs": [],
   "source": [
    "umat = expm(-1j*evolve_time*hopping_matrix)\n",
    "evolved_wavefunction=evolve_fqe_givens(init_wavefunction, umat)"
   ]
  },
  {
   "cell_type": "code",
   "execution_count": 30,
   "id": "47369a52",
   "metadata": {},
   "outputs": [
    {
     "name": "stdout",
     "output_type": "stream",
     "text": [
      "F-1 =  0.0\n"
     ]
    }
   ],
   "source": [
    "fidelity=abs(fqe.vdot(evolved_wavefunction, \n",
    "             fqe.from_cirq(evolved_cirq_wfn,thresh=1e-6)))**2\n",
    "print('F-1 = ', abs(fidelity-1))"
   ]
  },
  {
   "cell_type": "code",
   "execution_count": 31,
   "id": "8de514e2",
   "metadata": {},
   "outputs": [],
   "source": [
    "coulomb_matrix=of.get_sparse_operator(sum(two_body))\n",
    "unitary=expm(-1j*evolve_time*coulomb_matrix.todense())\n",
    "evolved_cirq_wfn=unitary@init_cirq_wfn"
   ]
  },
  {
   "cell_type": "code",
   "execution_count": 32,
   "id": "a8d8a5ec",
   "metadata": {},
   "outputs": [],
   "source": [
    "coulomb_matrix=np.diag([params.U]*params.nsites)"
   ]
  },
  {
   "cell_type": "code",
   "execution_count": 34,
   "id": "52cb53e6",
   "metadata": {},
   "outputs": [],
   "source": [
    "evolved_fqe_wfn=evolve_fqe_charge_charge_alpha_beta(init_wavefunction,\n",
    "                                                   coulomb_matrix,\n",
    "                                                   evolve_time)"
   ]
  },
  {
   "cell_type": "code",
   "execution_count": 35,
   "id": "1eee9e87",
   "metadata": {},
   "outputs": [
    {
     "name": "stdout",
     "output_type": "stream",
     "text": [
      "F-1 =  4.440892098500626e-16\n"
     ]
    }
   ],
   "source": [
    "fidelity = abs(fqe.vdot(evolved_fqe_wfn, fqe.from_cirq(evolved_cirq_wfn, thresh=1e-6)))**2\n",
    "print('F-1 = ', abs(fidelty-1))"
   ]
  },
  {
   "cell_type": "code",
   "execution_count": 37,
   "id": "82aa0a2f",
   "metadata": {},
   "outputs": [],
   "source": [
    "steps=10\n",
    "umat = expm(-1j*hopping_matrix*(evolve_time/steps))\n",
    "\n",
    "current_wfn=copy.deepcopy(init_wavefunction)\n",
    "for st in range(steps):\n",
    "    \n",
    "    current_wfn=evolve_fqe_givens(current_wfn, u=umat)\n",
    "    \n",
    "    current_wfn=evolve_fqe_charge_charge_alpha_beta(\n",
    "                current_wfn,\n",
    "                coulomb_matrix,\n",
    "                evolve_time/steps\n",
    "    )"
   ]
  },
  {
   "cell_type": "code",
   "execution_count": 38,
   "id": "e22142c8",
   "metadata": {},
   "outputs": [
    {
     "name": "stdout",
     "output_type": "stream",
     "text": [
      "0.9988722601807759\n"
     ]
    }
   ],
   "source": [
    "trotterized_fidelity = abs(fqe.vdot(true_evolved_fqe, current_wfn))**2\n",
    "print(trotterized_fidelity)"
   ]
  },
  {
   "cell_type": "code",
   "execution_count": 68,
   "id": "da83cffc",
   "metadata": {},
   "outputs": [],
   "source": [
    "params = model(nsites   = 8,\n",
    "               l_up     = 4,\n",
    "               m_up     = 4.5,\n",
    "               sigma_up = 1,\n",
    "               U = 3.0\n",
    "              )\n",
    "\n",
    "site_index = np.arange(1, params.nsites+1)\n",
    "\n",
    "Hσ_up = np.diag([-1.]*(params.nsites-1), k=1)+np.diag([-1.] *(params.nsites - 1), k=-1)\n",
    "Hσ_up += np.diag(-params.l_up*np.exp(-0.5*(site_index-params.m_up)**2)/params.sigma_up**2)\n",
    "Hσ_dn = np.diag([-1.]*(params.nsites-1), k=1)+np.diag([-1.] *(params.nsites - 1), k=-1)               "
   ]
  },
  {
   "cell_type": "code",
   "execution_count": 69,
   "id": "89dcdb49",
   "metadata": {},
   "outputs": [
    {
     "name": "stdout",
     "output_type": "stream",
     "text": [
      "Sector N = 4 : S_z = 0\n",
      "a'00000011'b'00000011' (1+0j)\n"
     ]
    }
   ],
   "source": [
    "init_wfn = fqe.Wavefunction([[params.nsites//2, 0, params.nsites]])\n",
    "init_wfn.set_wfn(strategy='hartree-fock')\n",
    "init_wfn.print_wfn()"
   ]
  },
  {
   "cell_type": "code",
   "execution_count": 70,
   "id": "32ad28a5",
   "metadata": {},
   "outputs": [],
   "source": [
    "# find the eigenbasis\n",
    "vup = np.linalg.eigh(Hσ_up)[1]\n",
    "vdn = np.linalg.eigh(Hσ_dn)[1]"
   ]
  },
  {
   "cell_type": "code",
   "execution_count": 71,
   "id": "68615f84",
   "metadata": {},
   "outputs": [],
   "source": [
    "init_wfn = evolve_fqe_givens_sector(init_wfn, vup, sector='alpha')\n",
    "init_wfn = evolve_fqe_givens_sector(init_wfn, vdn, sector='beta')"
   ]
  },
  {
   "cell_type": "code",
   "execution_count": 94,
   "id": "78059183",
   "metadata": {},
   "outputs": [],
   "source": [
    "opdm_a, opdm_b = init_wfn.sector((params.nsites // 2, 0)).get_spin_opdm()\n",
    "\n",
    "dt = 0.3\n",
    "steps = 55\n",
    "hopping_u = expm(-1j*dt*Hσ_dn)\n",
    "charge_u  = np.diag([params.U]*params.nsites)\n",
    "opdms_alpha=[opdm_a]\n",
    "opdms_beta=[opdm_b]\n",
    "times=[0.0]\n",
    "current_time = 0.0\n",
    "final_wfn = init_wfn\n",
    "for t in range(steps):\n",
    "    final_wfn=evolve_fqe_givens(final_wfn, hopping_u)\n",
    "    final_wfn=evolve_fqe_charge_charge_alpha_beta(final_wfn, charge_u, dt)\n",
    "    current_time += dt\n",
    "    \n",
    "    opdm_a_current, opdm_b_current = final_wfn.sector((params.nsites//2,0)).get_spin_opdm()\n",
    "    opdms_alpha.append(opdm_a_current)\n",
    "    opdms_beta.append(opdm_b_current)\n",
    "    times.append(current_time)"
   ]
  },
  {
   "cell_type": "code",
   "execution_count": 116,
   "id": "d9ad292f",
   "metadata": {},
   "outputs": [],
   "source": [
    "select_times=[0.0, 1.2, 1.8, 3.]\n",
    "time_indices=[int(t/dt) for t in select_times]\n",
    "\n",
    "charge = [np.diagonal(opdms_alpha[idx]+opdms_beta[idx]).real\n",
    "    for idx in time_indices]\n",
    "spin = [np.diagonal(opdms_alpha[idx]-opdms_beta[idx]).real\n",
    "    for idx in time_indices]"
   ]
  },
  {
   "cell_type": "code",
   "execution_count": 138,
   "id": "9f98e532",
   "metadata": {},
   "outputs": [
    {
     "data": {
      "image/png": "[encoded data removed]",
      "text/plain": [
       "<Figure size 864x360 with 8 Axes>"
      ]
     },
     "metadata": {
      "needs_background": "light"
     },
     "output_type": "display_data"
    }
   ],
   "source": [
    "fig,ax = plt.subplots(2,len(select_times), sharex=True, figsize=(12, 5))\n",
    "\n",
    "for i,c,s in zip(range(len(select_times)), charge, spin):\n",
    "    \n",
    "    ax[0,i].plot(site_index, c, 'o-', mfc='none', color='tab:blue')\n",
    "    ax[1,i].plot(site_index, s, 'o-', mfc='none', color='tab:red')\n",
    "    ax[0,i].set_ylim(0, 1.1)\n",
    "    ax[1,i].set_ylim(-0.6, 0.6)\n",
    "    ax[1,i].set_xticks(site_index)\n",
    "    ax[1,i].set_xlabel('site index')\n",
    "    if i != 0: ax[0, i].set_yticks([]);\n",
    "    if i != 0: ax[1, i].set_yticks([]);\n",
    "    ax[0,i].set_title(r't = {:1.1f} ($\\hbar/t$)'.format(select_times[i]))\n",
    "ax[0,0].set_ylabel(r'charge density $\\rho^{+}$')\n",
    "ax[1,0].set_ylabel(r'spin density $\\rho^{-}$')\n",
    "\n",
    "plt.savefig('snapshot.pdf')"
   ]
  },
  {
   "cell_type": "code",
   "execution_count": 150,
   "id": "ecf90057",
   "metadata": {},
   "outputs": [],
   "source": [
    "nup_all_time = np.array([np.diagonal(alpha).real for (alpha, beta) in zip(opdms_alpha, opdms_beta)])\n",
    "ndn_all_time = np.array([np.diagonal(beta).real for (alpha, beta) in zip(opdms_alpha, opdms_beta)])\n",
    "#spin_all_time =  np.array([np.diagonal(alpha-beta).real for (alpha, beta) in zip(opdms_alpha, opdms_beta)])"
   ]
  },
  {
   "cell_type": "code",
   "execution_count": 153,
   "id": "4e76878b",
   "metadata": {},
   "outputs": [
    {
     "data": {
      "text/plain": [
       "array([[0.002055  , 0.02196527, 0.18623579, 0.78974394, 0.78974394,\n",
       "        0.18623579, 0.02196527, 0.002055  ],\n",
       "       [0.00223427, 0.02967753, 0.24682716, 0.72126104, 0.72126104,\n",
       "        0.24682716, 0.02967753, 0.00223427],\n",
       "       [0.00524075, 0.06088448, 0.34364209, 0.59023269, 0.59023269,\n",
       "        0.34364209, 0.06088448, 0.00524075],\n",
       "       [0.01840544, 0.12211441, 0.39455177, 0.46492837, 0.46492837,\n",
       "        0.39455177, 0.12211441, 0.01840544],\n",
       "       [0.05298825, 0.18757967, 0.39686223, 0.36256986, 0.36256986,\n",
       "        0.39686223, 0.18757967, 0.05298825],\n",
       "       [0.114017  , 0.22367181, 0.37639258, 0.28591861, 0.28591861,\n",
       "        0.37639258, 0.22367181, 0.114017  ],\n",
       "       [0.19230246, 0.2344619 , 0.32605593, 0.24717971, 0.24717971,\n",
       "        0.32605593, 0.2344619 , 0.19230246],\n",
       "       [0.26898591, 0.2363266 , 0.25235402, 0.24233347, 0.24233347,\n",
       "        0.25235402, 0.2363266 , 0.26898591],\n",
       "       [0.32883715, 0.22461168, 0.20179626, 0.24475491, 0.24475491,\n",
       "        0.20179626, 0.22461168, 0.32883715],\n",
       "       [0.36169906, 0.2098958 , 0.1912606 , 0.23714455, 0.23714455,\n",
       "        0.1912606 , 0.2098958 , 0.36169906],\n",
       "       [0.35555807, 0.22302191, 0.19745801, 0.22396201, 0.22396201,\n",
       "        0.19745801, 0.22302191, 0.35555807],\n",
       "       [0.31039463, 0.26080961, 0.21957591, 0.20921985, 0.20921985,\n",
       "        0.21957591, 0.26080961, 0.31039463],\n",
       "       [0.24980318, 0.29650348, 0.25336209, 0.20033124, 0.20033124,\n",
       "        0.25336209, 0.29650348, 0.24980318],\n",
       "       [0.19662206, 0.32812046, 0.25929787, 0.21595961, 0.21595961,\n",
       "        0.25929787, 0.32812046, 0.19662206],\n",
       "       [0.15573637, 0.35619217, 0.24107294, 0.24699853, 0.24699853,\n",
       "        0.24107294, 0.35619217, 0.15573637],\n",
       "       [0.13071431, 0.36068206, 0.24999333, 0.2586103 , 0.2586103 ,\n",
       "        0.24999333, 0.36068206, 0.13071431],\n",
       "       [0.12747294, 0.33884156, 0.2856799 , 0.2480056 , 0.2480056 ,\n",
       "        0.2856799 , 0.33884156, 0.12747294],\n",
       "       [0.14011813, 0.31375264, 0.31129835, 0.23483088, 0.23483088,\n",
       "        0.31129835, 0.31375264, 0.14011813],\n",
       "       [0.15952901, 0.30071896, 0.3262153 , 0.21353673, 0.21353673,\n",
       "        0.3262153 , 0.30071896, 0.15952901],\n",
       "       [0.18395151, 0.30388074, 0.33836872, 0.17379903, 0.17379903,\n",
       "        0.33836872, 0.30388074, 0.18395151],\n",
       "       [0.2073382 , 0.32930919, 0.32817918, 0.13517343, 0.13517343,\n",
       "        0.32817918, 0.32930919, 0.2073382 ],\n",
       "       [0.22887904, 0.37033366, 0.28113719, 0.11965011, 0.11965011,\n",
       "        0.28113719, 0.37033366, 0.22887904],\n",
       "       [0.27272756, 0.38723288, 0.21747348, 0.12256608, 0.12256608,\n",
       "        0.21747348, 0.38723288, 0.27272756],\n",
       "       [0.34922851, 0.34690639, 0.17463427, 0.12923084, 0.12923084,\n",
       "        0.17463427, 0.34690639, 0.34922851],\n",
       "       [0.41347239, 0.28435121, 0.1706201 , 0.1315563 , 0.1315563 ,\n",
       "        0.1706201 , 0.28435121, 0.41347239],\n",
       "       [0.41835912, 0.25992641, 0.19428957, 0.1274249 , 0.1274249 ,\n",
       "        0.19428957, 0.25992641, 0.41835912],\n",
       "       [0.37505109, 0.27496079, 0.22587388, 0.12411424, 0.12411424,\n",
       "        0.22587388, 0.27496079, 0.37505109],\n",
       "       [0.31281579, 0.30180458, 0.24817686, 0.13720278, 0.13720278,\n",
       "        0.24817686, 0.30180458, 0.31281579],\n",
       "       [0.23469907, 0.34613848, 0.24872891, 0.17043354, 0.17043354,\n",
       "        0.24872891, 0.34613848, 0.23469907],\n",
       "       [0.15141908, 0.39566343, 0.23928078, 0.21363671, 0.21363671,\n",
       "        0.23928078, 0.39566343, 0.15141908],\n",
       "       [0.0985753 , 0.38888043, 0.24923712, 0.26330715, 0.26330715,\n",
       "        0.24923712, 0.38888043, 0.0985753 ],\n",
       "       [0.09288278, 0.31233079, 0.27935238, 0.31543405, 0.31543405,\n",
       "        0.27935238, 0.31233079, 0.09288278],\n",
       "       [0.1140928 , 0.22808886, 0.29386725, 0.36395109, 0.36395109,\n",
       "        0.29386725, 0.22808886, 0.1140928 ],\n",
       "       [0.13753763, 0.17906144, 0.27031277, 0.41308816, 0.41308816,\n",
       "        0.27031277, 0.17906144, 0.13753763],\n",
       "       [0.15189908, 0.16737755, 0.23434065, 0.44638272, 0.44638272,\n",
       "        0.23434065, 0.16737755, 0.15189908],\n",
       "       [0.15118929, 0.19377334, 0.22516054, 0.42987683, 0.42987683,\n",
       "        0.22516054, 0.19377334, 0.15118929],\n",
       "       [0.14238955, 0.23854862, 0.24167833, 0.3773835 , 0.3773835 ,\n",
       "        0.24167833, 0.23854862, 0.14238955],\n",
       "       [0.1483039 , 0.25893564, 0.26329003, 0.32947044, 0.32947044,\n",
       "        0.26329003, 0.25893564, 0.1483039 ],\n",
       "       [0.17505961, 0.24311495, 0.28587807, 0.29594737, 0.29594737,\n",
       "        0.28587807, 0.24311495, 0.17505961],\n",
       "       [0.19992018, 0.22273316, 0.2967273 , 0.28061936, 0.28061936,\n",
       "        0.2967273 , 0.22273316, 0.19992018],\n",
       "       [0.20791167, 0.22045732, 0.27844606, 0.29318495, 0.29318495,\n",
       "        0.27844606, 0.22045732, 0.20791167],\n",
       "       [0.20652158, 0.2223829 , 0.25110829, 0.31998723, 0.31998723,\n",
       "        0.25110829, 0.2223829 , 0.20652158],\n",
       "       [0.19739406, 0.22221787, 0.24446542, 0.33592265, 0.33592265,\n",
       "        0.24446542, 0.22221787, 0.19739406],\n",
       "       [0.17154275, 0.23700171, 0.25605553, 0.33540001, 0.33540001,\n",
       "        0.25605553, 0.23700171, 0.17154275],\n",
       "       [0.13515694, 0.25676317, 0.28243583, 0.32564406, 0.32564406,\n",
       "        0.28243583, 0.25676317, 0.13515694],\n",
       "       [0.10824455, 0.25131245, 0.3312888 , 0.30915419, 0.30915419,\n",
       "        0.3312888 , 0.25131245, 0.10824455],\n",
       "       [0.09862348, 0.22959338, 0.37490813, 0.296875  , 0.296875  ,\n",
       "        0.37490813, 0.22959338, 0.09862348],\n",
       "       [0.09924836, 0.22161757, 0.37235462, 0.30677945, 0.30677945,\n",
       "        0.37235462, 0.22161757, 0.09924836],\n",
       "       [0.10680358, 0.22666258, 0.33976988, 0.32676396, 0.32676396,\n",
       "        0.33976988, 0.22666258, 0.10680358],\n",
       "       [0.12427806, 0.23230582, 0.3160371 , 0.32737902, 0.32737902,\n",
       "        0.3160371 , 0.23230582, 0.12427806],\n",
       "       [0.14753597, 0.24368196, 0.29319855, 0.31558352, 0.31558352,\n",
       "        0.29319855, 0.24368196, 0.14753597],\n",
       "       [0.16914123, 0.26366122, 0.25601447, 0.31118307, 0.31118307,\n",
       "        0.25601447, 0.26366122, 0.16914123],\n",
       "       [0.19482008, 0.27530047, 0.23387412, 0.29600532, 0.29600532,\n",
       "        0.23387412, 0.27530047, 0.19482008],\n",
       "       [0.2353433 , 0.26007741, 0.24609469, 0.2584846 , 0.2584846 ,\n",
       "        0.24609469, 0.26007741, 0.2353433 ],\n",
       "       [0.28573776, 0.22556153, 0.25776838, 0.23093234, 0.23093234,\n",
       "        0.25776838, 0.22556153, 0.28573776],\n",
       "       [0.33071472, 0.19715894, 0.24110484, 0.2310215 , 0.2310215 ,\n",
       "        0.24110484, 0.19715894, 0.33071472]])"
      ]
     },
     "execution_count": 153,
     "metadata": {},
     "output_type": "execute_result"
    }
   ],
   "source": [
    "nup_all_time"
   ]
  },
  {
   "cell_type": "code",
   "execution_count": 152,
   "id": "aaa5335c",
   "metadata": {},
   "outputs": [
    {
     "data": {
      "text/plain": [
       "<matplotlib.image.AxesImage at 0x7fbf8225b2e0>"
      ]
     },
     "execution_count": 152,
     "metadata": {},
     "output_type": "execute_result"
    },
    {
     "data": {
      "image/png": "[encoded data removed]",
      "text/plain": [
       "<Figure size 432x288 with 2 Axes>"
      ]
     },
     "metadata": {
      "needs_background": "light"
     },
     "output_type": "display_data"
    }
   ],
   "source": [
    "fig, ax = plt.subplots(1, 2, sharey=True)\n",
    "ax[0].imshow(nup_all_time, cmap='Greens', aspect='auto', origin='lower')\n",
    "ax[1].imshow(ndn_all_time, cmap='Blues', aspect='auto', origin='lower')"
   ]
  },
  {
   "cell_type": "code",
   "execution_count": 99,
   "id": "c7cc25ee",
   "metadata": {},
   "outputs": [],
   "source": [
    "\n",
    "spread= np.abs(np.arange(1, params.nsites+1)-(params.nsites+1)/2)\n",
    "charge_spread=[np.multiply(spread,np.diagonal(alpha+beta).real).sum() \n",
    "               for (alpha,beta) in zip(opdms_alpha, opdms_beta)]\n",
    "spin_spread=[np.multiply(spread,np.diagonal(alpha-beta).real).sum() \n",
    "               for (alpha, beta) in zip(opdms_alpha, opdms_beta)]"
   ]
  },
  {
   "cell_type": "code",
   "execution_count": 137,
   "id": "a5ab02b6",
   "metadata": {},
   "outputs": [
    {
     "data": {
      "image/png": "[encoded data removed]",
      "text/plain": [
       "<Figure size 288x432 with 3 Axes>"
      ]
     },
     "metadata": {
      "needs_background": "light"
     },
     "output_type": "display_data"
    }
   ],
   "source": [
    "fig,ax=plt.subplots(2,1, sharex=True, figsize=(4,6))\n",
    "stop=12\n",
    "ax[0].plot(times[:stop], charge_spread[:stop], 'o-', mfc='none', color='tab:blue', label='charge')\n",
    "ax2=ax[0].twinx()\n",
    "ax[0].set_ylim(5, 10)\n",
    "ax[0].plot(times[:stop], spin_spread[:stop], 'o-', mfc='none', color='tab:red', label='spin')\n",
    "#ax[1].set_xticks(list(range(0, 3, 1)))\n",
    "ax2.plot(times[:stop], spin_spread[:stop], 'o-', mfc='none', color='tab:red', label='spin')\n",
    "#ax[1].set_xticks(list(range(0, 3, 1)))\n",
    "ax[-1].set_xlabel(r'Time ($\\hbar/t$)')\n",
    "ax[0].set_ylabel(r'Charge spread $\\kappa^{+}$'); ax2.set_ylabel(r'Spin spread $\\kappa^{-}$')\n",
    "ax2.set_yticks([-2,0,2])\n",
    "ax[1].plot(times[:stop], np.gradient(charge_spread[:stop]), 'o-', mfc='none', label='charge')\n",
    "#ax2=ax[1].twinx()\n",
    "ax[1].plot(times[:stop], np.gradient(spin_spread[:stop]), 'o-', mfc='none', color='tab:red', label='spin')\n",
    "ax[1].set_ylabel(r'Spread rate $(t/\\hbar)$')\n",
    "plt.subplots_adjust(hspace=0.3)\n",
    "ax[1].legend(); ax[0].legend()\n",
    "ax[1].set_ylim(-1, 2)\n",
    "plt.savefig('spread.pdf')"
   ]
  }
 ],
 "metadata": {
  "kernelspec": {
   "display_name": "Python 3 (ipykernel)",
   "language": "python",
   "name": "python3"
  },
  "language_info": {
   "codemirror_mode": {
    "name": "ipython",
    "version": 3
   },
   "file_extension": ".py",
   "mimetype": "text/x-python",
   "name": "python",
   "nbconvert_exporter": "python",
   "pygments_lexer": "ipython3",
   "version": "3.8.3"
  }
 },
 "nbformat": 4,
 "nbformat_minor": 5
}
